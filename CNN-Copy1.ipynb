{
 "cells": [
  {
   "cell_type": "code",
   "execution_count": 7,
   "metadata": {},
   "outputs": [
    {
     "name": "stdout",
     "output_type": "stream",
     "text": [
      "Extracting MNIST-data\\train-images-idx3-ubyte.gz\n",
      "Extracting MNIST-data\\train-labels-idx1-ubyte.gz\n",
      "Extracting MNIST-data\\t10k-images-idx3-ubyte.gz\n",
      "Extracting MNIST-data\\t10k-labels-idx1-ubyte.gz\n"
     ]
    }
   ],
   "source": [
    "#  Copyright 2016 The TensorFlow Authors. All Rights Reserved.\n",
    "#\n",
    "#  Licensed under the Apache License, Version 2.0 (the \"License\");\n",
    "#  you may not use this file except in compliance with the License.\n",
    "#  You may obtain a copy of the License at\n",
    "#\n",
    "#   http://www.apache.org/licenses/LICENSE-2.0\n",
    "#\n",
    "#  Unless required by applicable law or agreed to in writing, software\n",
    "#  distributed under the License is distributed on an \"AS IS\" BASIS,\n",
    "#  WITHOUT WARRANTIES OR CONDITIONS OF ANY KIND, either express or implied.\n",
    "#  See the License for the specific language governing permissions and\n",
    "#  limitations under the License.\n",
    "\"\"\"Convolutional Neural Network Estimator for MNIST, built with tf.layers.\"\"\"\n",
    "\n",
    "from __future__ import absolute_import\n",
    "from __future__ import division\n",
    "from __future__ import print_function\n",
    "import matplotlib.pyplot as plt\n",
    "%matplotlib inline\n",
    "\n",
    "import numpy as np\n",
    "import tensorflow as tf\n",
    "\n",
    "tf.logging.set_verbosity(tf.logging.INFO)\n",
    "#c is to control whether we should initialize the variables\n",
    "c=0\n",
    "learning_rate=0.001\n",
    "epochs=10000\n",
    "mnist = tf.contrib.learn.datasets.load_dataset(\"mnist\")\n",
    "train_data = mnist.train.images  # Returns np.array\n",
    "train_labels = np.asarray(mnist.train.labels, dtype=np.int64)\n",
    "eval_data = mnist.test.images  # Returns np.array\n",
    "eval_labels = np.asarray(mnist.test.labels, dtype=np.int64)\n",
    "#tf.data.Dataset.from_tensor_slices\n",
    "  \n",
    "  \n"
   ]
  },
  {
   "cell_type": "code",
   "execution_count": 19,
   "metadata": {},
   "outputs": [
    {
     "name": "stdout",
     "output_type": "stream",
     "text": [
      "<class 'numpy.int64'>\n"
     ]
    }
   ],
   "source": [
    "train_data=train_data.reshape(55000,784,1)\n",
    "dataset=tf.data.Dataset.from_tensor_slices(train_data)\n",
    "dataset=dataset.batch(batch_size=5)\n",
    "iterator = dataset.make_one_shot_iterator()\n",
    "next_element = iterator.get_next()\n",
    "#print(train_data.shape)\n",
    "batch_size=5\n",
    "train_data[0:5].shape\n",
    "#print(train_data.shape)\n",
    "#print(train_labels[0:5].shape)\n",
    "print(type(train_labels[0]))\n",
    "#print((train_labels.shape))\n",
    "eval_data=eval_data.reshape(10000,784,1)\n",
    "#print(eval_data.shape)"
   ]
  },
  {
   "cell_type": "code",
   "execution_count": 20,
   "metadata": {},
   "outputs": [
    {
     "data": {
      "text/plain": [
       "Text(0.5,1,'(Label: 7)')"
      ]
     },
     "execution_count": 20,
     "metadata": {},
     "output_type": "execute_result"
    },
    {
     "data": {
      "image/png": "[encoded data removed]",
      "text/plain": [
       "<Figure size 216x216 with 1 Axes>"
      ]
     },
     "metadata": {},
     "output_type": "display_data"
    },
    {
     "data": {
      "image/png": "[encoded data removed]",
      "text/plain": [
       "<Figure size 216x216 with 1 Axes>"
      ]
     },
     "metadata": {},
     "output_type": "display_data"
    }
   ],
   "source": [
    "plt.figure(figsize=[3,3])\n",
    "\n",
    "# Display the first image in training data\n",
    "#plt.subplot(121)\n",
    "\n",
    "plt.imshow(train_data[0].reshape(28,28), cmap='gray')\n",
    "plt.title(\"(Label: \" + str(train_labels[0]) + \")\")\n",
    "plt.figure(figsize=[3,3])\n",
    "\n",
    "# Display the first image in training data\n",
    "#plt.subplot(121)\n",
    "\n",
    "plt.imshow(train_data[0].reshape(28,28), cmap='gray')\n",
    "plt.title(\"(Label: \" + str(train_labels[0]) + \")\")\n"
   ]
  },
  {
   "cell_type": "code",
   "execution_count": 21,
   "metadata": {},
   "outputs": [
    {
     "name": "stdout",
     "output_type": "stream",
     "text": [
      "<BatchDataset shapes: (?, 784, 1), types: tf.float32>\n"
     ]
    }
   ],
   "source": [
    "print(dataset)"
   ]
  },
  {
   "cell_type": "code",
   "execution_count": 22,
   "metadata": {},
   "outputs": [],
   "source": [
    "\n",
    "def cnn_model_fn(inp):\n",
    "    #using value -1, can make us batch_size more flexible!\n",
    "    input_layer = tf.reshape(inp, [-1, 28, 28 ,1])\n",
    "    #convolutional\n",
    "    conv1 = tf.layers.conv2d(\n",
    "      inputs=input_layer,\n",
    "      filters=32,\n",
    "      kernel_size=[5, 5],\n",
    "      padding=\"same\",\n",
    "      activation=tf.nn.relu,\n",
    "    #name='conv1'\n",
    "    )\n",
    "    #maxpooling1\n",
    "    pool1=tf.layers.max_pooling2d(\n",
    "    inputs=conv1,\n",
    "    pool_size=[2,2],\n",
    "    strides=2,\n",
    "    padding='same',\n",
    "    #name='MaxPool1'\n",
    "    )\n",
    "    #conv2\n",
    "    conv2 = tf.layers.conv2d(\n",
    "      inputs=pool1,\n",
    "      filters=64,\n",
    "      kernel_size=[5, 5],\n",
    "      padding=\"same\",\n",
    "      activation=tf.nn.relu,\n",
    "    #name='conv2'\n",
    "    )\n",
    "    #maxpooling2\n",
    "    pool2=tf.layers.max_pooling2d(\n",
    "    inputs=conv2,\n",
    "    pool_size=[2,2],\n",
    "    strides=2,\n",
    "    padding='same',\n",
    "    #name='MaxPool1'\n",
    "    )\n",
    "    #faltten\n",
    "    #pool2_flat = tf.reshape(pool2, [batch_size, 7 * 7 * 64])\n",
    "  \n",
    "    pool2_flat = tf.reshape(pool2, [-1, 7 * 7 * 64])\n",
    "    dense1=tf.layers.dense(\n",
    "    inputs=pool2_flat,\n",
    "    units=1028,\n",
    "    activation=tf.nn.relu)\n",
    "    \n",
    "    drop_out=tf.layers.dropout(\n",
    "    inputs=pool2_flat,\n",
    "    rate=0.4)\n",
    "    #output layer\n",
    "    #if doesn't set activation, then it's use a linear function\n",
    "    logits = tf.layers.dense(inputs=drop_out, units=10)\n",
    "    \n",
    "        \n",
    "    return logits\n"
   ]
  },
  {
   "cell_type": "code",
   "execution_count": 23,
   "metadata": {},
   "outputs": [
    {
     "name": "stdout",
     "output_type": "stream",
     "text": [
      "(5, 784, 1)\n"
     ]
    }
   ],
   "source": [
    "#create a place holder to hold cnn_model_fn(\"\"\"inp\"\"\")\n",
    "#place_holder 的第一項設定成None 就可以使你的輸入很flexible!!!(好方便啊!)\n",
    "x = tf.placeholder(tf.float32, shape=(None, 784,1))\n",
    "y=tf.placeholder(tf.int64, shape=(None))\n",
    "logits=cnn_model_fn( x)\n",
    "#tf.nn.sparse_softmax_cross_entropy_with_logits logit一定要pass float32 or float64的data進去 而lables只能pass int32 or int64\n",
    "loss=tf.reduce_mean(tf.nn.sparse_softmax_cross_entropy_with_logits(labels=y,logits= logits))\n",
    "optimizer=tf.train.AdamOptimizer(learning_rate=learning_rate).minimize(loss)\n",
    "pred=tf.arg_max(logits,1)\n",
    "#tf.cast可以改變tensor的data type\n",
    "accuracy=tf.reduce_mean(tf.cast(tf.equal(tf.arg_max(logits,1),y),tf.float32))\n",
    "\n",
    "##########################################################################################################\n",
    "#明天從這裡開始\n",
    "#\n",
    "##########################################################################################################\n",
    "init = tf.global_variables_initializer()\n",
    "print(train_data[0:5].shape)"
   ]
  },
  {
   "cell_type": "code",
   "execution_count": 30,
   "metadata": {},
   "outputs": [
    {
     "name": "stdout",
     "output_type": "stream",
     "text": [
      "training_loss= 2.3067765\n",
      "test_loss= 2.3182268\n"
     ]
    },
    {
     "data": {
      "image/png": "[encoded data removed]",
      "text/plain": [
       "<Figure size 216x216 with 1 Axes>"
      ]
     },
     "metadata": {},
     "output_type": "display_data"
    },
    {
     "name": "stdout",
     "output_type": "stream",
     "text": [
      "training_loss= 2.3286147\n",
      "test_loss= 2.2940078\n"
     ]
    },
    {
     "data": {
      "image/png": "[encoded data removed]",
      "text/plain": [
       "<Figure size 216x216 with 1 Axes>"
      ]
     },
     "metadata": {},
     "output_type": "display_data"
    },
    {
     "name": "stdout",
     "output_type": "stream",
     "text": [
      "training_loss= 2.2714727\n",
      "test_loss= nan\n"
     ]
    },
    {
     "data": {
      "image/png": "[encoded data removed]",
      "text/plain": [
       "<Figure size 216x216 with 1 Axes>"
      ]
     },
     "metadata": {},
     "output_type": "display_data"
    },
    {
     "name": "stdout",
     "output_type": "stream",
     "text": [
      "training_loss= 2.3755238\n",
      "test_loss= nan\n"
     ]
    },
    {
     "data": {
      "image/png": "[encoded data removed]",
      "text/plain": [
       "<Figure size 216x216 with 1 Axes>"
      ]
     },
     "metadata": {},
     "output_type": "display_data"
    },
    {
     "name": "stdout",
     "output_type": "stream",
     "text": [
      "training_loss= 2.2487671\n",
      "test_loss= nan\n"
     ]
    },
    {
     "data": {
      "image/png": "[encoded data removed]",
      "text/plain": [
       "<Figure size 216x216 with 1 Axes>"
      ]
     },
     "metadata": {},
     "output_type": "display_data"
    },
    {
     "name": "stdout",
     "output_type": "stream",
     "text": [
      "training_loss= 2.337973\n",
      "test_loss= nan\n"
     ]
    },
    {
     "data": {
      "image/png": "[encoded data removed]",
      "text/plain": [
       "<Figure size 216x216 with 1 Axes>"
      ]
     },
     "metadata": {},
     "output_type": "display_data"
    },
    {
     "name": "stdout",
     "output_type": "stream",
     "text": [
      "training_loss= 2.3107927\n",
      "test_loss= nan\n"
     ]
    },
    {
     "data": {
      "image/png": "[encoded data removed]",
      "text/plain": [
       "<Figure size 216x216 with 1 Axes>"
      ]
     },
     "metadata": {},
     "output_type": "display_data"
    },
    {
     "name": "stdout",
     "output_type": "stream",
     "text": [
      "training_loss= 2.4095945\n",
      "test_loss= nan\n"
     ]
    },
    {
     "data": {
      "image/png": "[encoded data removed]",
      "text/plain": [
       "<Figure size 216x216 with 1 Axes>"
      ]
     },
     "metadata": {},
     "output_type": "display_data"
    },
    {
     "name": "stdout",
     "output_type": "stream",
     "text": [
      "training_loss= 2.269841\n",
      "test_loss= nan\n"
     ]
    },
    {
     "data": {
      "image/png": "[encoded data removed]",
      "text/plain": [
       "<Figure size 216x216 with 1 Axes>"
      ]
     },
     "metadata": {},
     "output_type": "display_data"
    },
    {
     "name": "stdout",
     "output_type": "stream",
     "text": [
      "training_loss= 2.3389626\n",
      "test_loss= nan\n"
     ]
    },
    {
     "data": {
      "image/png": "[encoded data removed]",
      "text/plain": [
       "<Figure size 216x216 with 1 Axes>"
      ]
     },
     "metadata": {},
     "output_type": "display_data"
    }
   ],
   "source": [
    "with tf.Session() as sess:\n",
    "    \n",
    "    sess.run(init)\n",
    "    \n",
    "    #iterator = dataset.make_one_shot_iterator()\n",
    "    #next_element = iterator.get_next()\n",
    "    plt.show()\n",
    "    for i in range(epochs):\n",
    "        #print(i)\n",
    "        #temp_element=sess.run(next_element)\n",
    "        #tensor flow 是在建立graph，\n",
    "        #print(train_data[5*i:5*i+5].shape)\n",
    "        #feed_in=train_data[0:5]\n",
    "        #print(feed_in.shape)\n",
    "        #temp=sess.run(logits, feed_dict={x:feed_in})\n",
    "        #temp=sess.run(optimizer, feed_dict={x:train_data[5*i:5*i+5],y:train_labels[5*i:5*i+5]})\n",
    "        #temp=sess.run(optimizer, feed_dict={x:next_element,y:train_labels[5*i:5*i+5]})\n",
    "        #print(temp)\n",
    "        gg=sess.run(next_element)\n",
    "        #if i%100==1:\n",
    "            #print(\"tf shape\",type(gg))\n",
    "            #print(train_data[5*i:5*i+5].shape)\n",
    "        if i%1000==0:\n",
    "            print('training_loss=',sess.run(loss, feed_dict={x:train_data[5*i:5*i+5],y:train_labels[5*i:5*i+5]}))\n",
    "            print('test_loss=',sess.run(loss, feed_dict={x:eval_data[5*i:5*i+5],y:eval_labels[5*i:5*i+5]}))\n",
    "            #print(sess.run(accuracy),feed_dict={x:train_data[5*i:5*i+5]})\n",
    "        #Show image\n",
    "            plt.figure(figsize=[3,3])\n",
    "            plt.imshow(train_data[i].reshape(28,28), cmap='gray')\n",
    "            #temp=train_data[i].reshape()\n",
    "            #print(train_data[i].shape)\n",
    "            plt.title(\"(Label: \" + str(train_labels[i]) + \"predicted_labeled:\"+str(sess.run(pred,feed_dict={x:train_data[i:i+1]}))+\")\")\n",
    "            plt.show()"
   ]
  },
  {
   "cell_type": "code",
   "execution_count": null,
   "metadata": {},
   "outputs": [],
   "source": [
    "with tf.Session() as sess:\n",
    "    for i in range(5):\n",
    "        "
   ]
  },
  {
   "cell_type": "code",
   "execution_count": null,
   "metadata": {},
   "outputs": [],
   "source": []
  },
  {
   "cell_type": "code",
   "execution_count": null,
   "metadata": {},
   "outputs": [],
   "source": []
  },
  {
   "cell_type": "code",
   "execution_count": null,
   "metadata": {},
   "outputs": [],
   "source": []
  },
  {
   "cell_type": "code",
   "execution_count": null,
   "metadata": {},
   "outputs": [],
   "source": []
  },
  {
   "cell_type": "code",
   "execution_count": null,
   "metadata": {},
   "outputs": [],
   "source": []
  },
  {
   "cell_type": "code",
   "execution_count": null,
   "metadata": {},
   "outputs": [],
   "source": []
  },
  {
   "cell_type": "code",
   "execution_count": null,
   "metadata": {},
   "outputs": [],
   "source": []
  },
  {
   "cell_type": "code",
   "execution_count": null,
   "metadata": {},
   "outputs": [],
   "source": []
  },
  {
   "cell_type": "code",
   "execution_count": null,
   "metadata": {},
   "outputs": [],
   "source": []
  }
 ],
 "metadata": {
  "kernelspec": {
   "display_name": "Python 3",
   "language": "python",
   "name": "python3"
  },
  "language_info": {
   "codemirror_mode": {
    "name": "ipython",
    "version": 3
   },
   "file_extension": ".py",
   "mimetype": "text/x-python",
   "name": "python",
   "nbconvert_exporter": "python",
   "pygments_lexer": "ipython3",
   "version": "3.6.5"
  }
 },
 "nbformat": 4,
 "nbformat_minor": 2
}
